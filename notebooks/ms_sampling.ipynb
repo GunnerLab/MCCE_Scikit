{
 "cells": [
  {
   "cell_type": "markdown",
   "metadata": {},
   "source": [
    "# Run the first 2 cells:"
   ]
  },
  {
   "cell_type": "markdown",
   "metadata": {},
   "source": [
    "_Cell 1: from jupyterlab template_: run it"
   ]
  },
  {
   "cell_type": "code",
   "execution_count": 1,
   "metadata": {
    "jupyter": {
     "source_hidden": true
    }
   },
   "outputs": [],
   "source": [
    "import sys\n",
    "from pathlib import Path\n",
    "import time\n",
    "import numpy as np\n",
    "from pprint import pprint as pp\n",
    "import matplotlib as mpl\n",
    "from matplotlib import pyplot as plt\n",
    "plt.ion()\n",
    "#plt.style.use('seaborn-v0_8-muted')\n",
    "#from IPython.display import HTML, Markdown #, IFrame\n",
    "\n",
    "# To get multiple outputs into 1 cell w/o using print:\n",
    "from IPython.core.interactiveshell import InteractiveShell\n",
    "InteractiveShell.ast_node_interactivity = \"all\"\n",
    "\n",
    "# autoreload extension\n",
    "from IPython import get_ipython\n",
    "\n",
    "ipython = get_ipython()\n",
    "if 'autoreload' not in ipython.extension_manager.loaded:\n",
    "    %load_ext autoreload\n",
    "%autoreload 2\n",
    "\n",
    "# -----------------------------------------\n",
    "# TWO USEFUL FUNCTIONS:\n",
    "\n",
    "def add_to_sys_path(this_path, up=False):\n",
    "    \"\"\"\n",
    "    Prepend this_path to sys.path.\n",
    "    If up=True, path refers to parent folder (1 level up).\n",
    "    \"\"\"\n",
    "    if up:\n",
    "        newp = Path(this_path).parent\n",
    "    else:\n",
    "        newp = Path(this_path)\n",
    "    src = newp.joinpath(\"src\")\n",
    "    if src.exists():\n",
    "        newp = str(src)\n",
    "    else:\n",
    "        newp = str(newp)\n",
    "    if newp not in sys.path:\n",
    "        sys.path.insert(1, newp)\n",
    "        print('Path added to sys.path: {}'.format(newp))\n",
    "\n",
    "# Filtered dir() for method discovery:\n",
    "def fdir(obj, start_with_str='_', exclude=True):\n",
    "    return [d for d in dir(obj) if not d.startswith(start_with_str) == exclude]\n"
   ]
  },
  {
   "cell_type": "markdown",
   "metadata": {},
   "source": [
    "_Cell 2: from jupyterlab template_: Uncomment (and amend it) to enable import of local modules."
   ]
  },
  {
   "cell_type": "code",
   "execution_count": 2,
   "metadata": {
    "scrolled": true
   },
   "outputs": [
    {
     "name": "stdout",
     "output_type": "stream",
     "text": [
      "Path added to sys.path: /home/cat/projects/MCCE_Scikit/src\n"
     ]
    }
   ],
   "source": [
    "# Insert current src dir into sys.path so that modules in ../src can be imported:\n",
    "# CHANGE THIS IF NEEDED:\n",
    "\n",
    "add_to_sys_path(Path.cwd(), up=True)"
   ]
  },
  {
   "cell_type": "markdown",
   "metadata": {},
   "source": [
    "---\n",
    "---\n",
    "\n",
    "# MCCE - MS Sampling (using test data in ../tests/data/)\n",
    "---\n",
    "# Workflow to producing a collections of pdbs from sampled microstates\n",
    "#### 5 steps to pdbs!\n",
    "\n",
    "### 1. Necessary imports\n",
    "```\n",
    "from pathlib import Path\n",
    "import numpy as np\n",
    "import time         # only needed if you want to time a process\n",
    "\n",
    "import base\n",
    "import mcce_io as io\n",
    "import ms_sampling as sampling\n",
    "```\n",
    "### 2. Path definition\n",
    " * mcce_output_path: path to  where a MCCE simulation was run. Must include step2_out.pdb, head3.lst, ms_out dir.\n",
    "\n",
    "### 3. MS class instanciation:\n",
    " * The class needs values for pH and Eh in addition to the MCCE output path.\n",
    " * Call using variables:\n",
    "```\n",
    "pH, Eh = 5.0, 0.0   # can be 5, 0 (int) as well\n",
    "ms = base.MS(mcce_output_path, pH, Eh)\n",
    "```\n",
    "\n",
    "### 4. Define arguments for sampling and pdb creation:\n",
    " - sample size\n",
    " - \"sort by\" key\n",
    " - output folder (optional: if not given, the output is given by ms.msout_file_dir)\n",
    "\n",
    "#### Note: Rationale for using a folder created from the msout file, e.g. pH5eH0ms/:\n",
    "The pdb file names only have the chosen MC and selected ms index as identifiers, hence,  \n",
    "a file must be open them to obtain the T, pH and Eh information, so keeping them in a folder  \n",
    "named after the msout file they come from is the simplest way to keep things tidy.\n",
    "\n",
    "```\n",
    "n_sample_size = 4\n",
    "ms_sort_by = \"energy\"\n",
    "\n",
    "# optional:\n",
    "output_dir = some_folder_path  # defaults to ms.msout_file_dir if not given\n",
    "```\n",
    "\n",
    "### 5. Function call to create pdbs from sampled ms:\n",
    "```\n",
    "start_time = time.time()        # optional\n",
    "\n",
    "sampling.pdbs_from_ms_samples(ms,\n",
    "                              mcce_output_path,\n",
    "                              n_sample_size,\n",
    "                              ms_sort_by,\n",
    "                              output_dir,\n",
    "                              clear_pdbs_folder=True,  # default:True\n",
    "                              list_files=True          # default:False\n",
    "                            )\n",
    "\n",
    "# next 2 lines: # optional\n",
    "d = time.time() - start_time    \n",
    "print(f\"`ms_sampling.pdbs_from_ms_samples` with sample size={n_sample_size:,} took {d/60:.2f} mins or {d:.2f} seconds\")\n",
    "```"
   ]
  },
  {
   "cell_type": "markdown",
   "metadata": {},
   "source": [
    "---\n",
    "# Example using repo data"
   ]
  },
  {
   "cell_type": "code",
   "execution_count": 3,
   "metadata": {},
   "outputs": [],
   "source": [
    "import base\n",
    "import mcce_io as io\n",
    "import ms_sampling as sampling"
   ]
  },
  {
   "cell_type": "code",
   "execution_count": 4,
   "metadata": {},
   "outputs": [
    {
     "data": {
      "text/plain": [
       "PosixPath('/home/cat/projects/MCCE_Scikit/tests/data')"
      ]
     },
     "execution_count": 4,
     "metadata": {},
     "output_type": "execute_result"
    },
    {
     "name": "stdout",
     "output_type": "stream",
     "text": [
      "head3.lst  ms_out  run.prm.record  step2_out.pdb\n"
     ]
    }
   ],
   "source": [
    "mcce_output_path = Path.cwd().parent.joinpath(\"tests/data\")\n",
    "mcce_output_path\n",
    "\n",
    "!ls {mcce_output_path}"
   ]
  },
  {
   "cell_type": "markdown",
   "metadata": {},
   "source": [
    "# base.MC class"
   ]
  },
  {
   "cell_type": "code",
   "execution_count": 5,
   "metadata": {},
   "outputs": [
    {
     "name": "stdout",
     "output_type": "stream",
     "text": [
      "Uses split ms_out files.\n",
      "MS.init\n",
      "\n",
      "        Parameters:\n",
      "            mcce_output_path (str): A MCCE simulation output folder.\n",
      "            pH (int or float): A pH point.\n",
      "            Eh (int or float): A Eh point.\n",
      "            selected_MC (int): The index of an MC run; one of `range(constants.MONTERUNS)`.\n",
      "            overwrite_split_files (bool): whether to redo the splitting of msout_file.\n",
      "        \n"
     ]
    }
   ],
   "source": [
    "print(base.MS.__doc__)\n",
    "print(base.MS.__init__.__doc__)"
   ]
  },
  {
   "cell_type": "code",
   "execution_count": 7,
   "metadata": {},
   "outputs": [
    {
     "name": "stdout",
     "output_type": "stream",
     "text": [
      "Loading of base.MS instance took 0.14 mins or 8.54 seconds\n",
      "MS(\"/home/cat/projects/MCCE_Scikit/tests/data\", 5.0, 0.0, selected_MC=0, overwrite_split_files=False)\n"
     ]
    }
   ],
   "source": [
    "# create instance\n",
    "\n",
    "pH, Eh = 5.0, 0.0\n",
    "\n",
    "start_time = time.time()\n",
    "\n",
    "ms = base.MS(mcce_output_path, pH, Eh)\n",
    "\n",
    "d = time.time() - start_time\n",
    "print(f\"Loading of base.MS instance took {d/60:.2f} mins or {d:.2f} seconds\")\n",
    "print(ms)"
   ]
  },
  {
   "cell_type": "code",
   "execution_count": 8,
   "metadata": {},
   "outputs": [],
   "source": [
    "# Public vars in MC:  (uncomment to view)\n",
    "#fdir(ms)"
   ]
  },
  {
   "cell_type": "raw",
   "metadata": {},
   "source": [
    "print(f\"ms.counts: {ms.counts:,}\") # == N_MONTERUNS! redundant"
   ]
  },
  {
   "cell_type": "markdown",
   "metadata": {},
   "source": [
    "# Call to `ms_sampling.pdbs_from_ms_samples`"
   ]
  },
  {
   "cell_type": "code",
   "execution_count": 9,
   "metadata": {},
   "outputs": [],
   "source": [
    "#fdir(sampling)  (uncomment to view)"
   ]
  },
  {
   "cell_type": "code",
   "execution_count": 10,
   "metadata": {},
   "outputs": [
    {
     "name": "stdout",
     "output_type": "stream",
     "text": [
      "Creating n=4 MCCE_PDB files in /home/cat/projects/MCCE_Scikit/tests/data/ms_out/pH5eH0ms from (n) microstates sorted by 'energy'.\n",
      " NOTE: the output pdb will be free of any water molecules in step2_out.pdb.\n",
      "PDB files creation over.\n",
      "Files in /home/cat/projects/MCCE_Scikit/tests/data/ms_out/pH5eH0ms/pdbs_from_ms:\n",
      "\n",
      "\t /home/cat/projects/MCCE_Scikit/tests/data/ms_out/pH5eH0ms/pdbs_from_ms/mc0_ms230849.pdb\n",
      "\t /home/cat/projects/MCCE_Scikit/tests/data/ms_out/pH5eH0ms/pdbs_from_ms/mc0_ms114217.pdb\n",
      "\t /home/cat/projects/MCCE_Scikit/tests/data/ms_out/pH5eH0ms/pdbs_from_ms/mc0_ms1.pdb\n",
      "\t /home/cat/projects/MCCE_Scikit/tests/data/ms_out/pH5eH0ms/pdbs_from_ms/mc0_ms349302.pdb\n",
      "`ms_sampling.pdbs_from_ms_samples` with sample size=4 took 0.02 mins or 1.07 seconds\n"
     ]
    }
   ],
   "source": [
    "# create pdbs from samples ms\n",
    "\n",
    "n_sample_size = 4\n",
    "ms_sort_by = \"energy\"\n",
    "\n",
    "start_time = time.time()\n",
    "\n",
    "sampling.pdbs_from_ms_samples(ms,\n",
    "                              mcce_output_path,\n",
    "                              n_sample_size,\n",
    "                              ms_sort_by,\n",
    "                              clear_pdbs_folder=True,  # default:True\n",
    "                              list_files=True          # default:False\n",
    "                            )\n",
    "\n",
    "d = time.time() - start_time\n",
    "print(f\"`ms_sampling.pdbs_from_ms_samples` with sample size={n_sample_size:,} took {d/60:.2f} mins or {d:.2f} seconds\")"
   ]
  },
  {
   "cell_type": "markdown",
   "metadata": {},
   "source": [
    "# Inspect a pdb head:"
   ]
  },
  {
   "cell_type": "code",
   "execution_count": 11,
   "metadata": {},
   "outputs": [
    {
     "name": "stdout",
     "output_type": "stream",
     "text": [
      "\n",
      "REMARK 250\n",
      "REMARK 250 EXPERIMENTAL DETAILS\n",
      "REMARK 250   EXPERIMENT TYPE               : MCCE simulation\n",
      "REMARK 250   DATE OF DATA COLLECTION       : 26-Oct-23\n",
      "REMARK 250   REMARK: DATE OF DATA COLLECTION is the date this pdb was created.\n",
      "REMARK 250 EXPERIMENTAL CONDITIONS\n",
      "REMARK 250   TEMPERATURE                   : 298.15 (K)\n",
      "REMARK 250   PH                            : 5.00\n",
      "REMARK 250   EH                            : 0.00\n",
      "REMARK 250   METHOD                        : MONTERUNS\n",
      "REMARK 250   SELECTED MONTERUN             : 0\n",
      "REMARK 250   SELECTED MICROSTATE INDEX     : 1\n",
      "REMARK 250   SELECTED MICROSTATE ENERGY    : 202.89 (kcal/mol)\n",
      "REMARK 250\n",
      "ATOM      1  CA  NTR A0001_001   2.696   5.785  12.711   2.000       0.001      01O000M000 \n",
      "ATOM      2  HA  NTR A0001_001   3.149   5.444  11.801   0.000       0.000      01O000M000 \n",
      "ATOM      3  N   NTR A0001_001   2.812   4.829  13.856   1.500      -0.003      01O000M000 \n",
      "ATOM      4  H   NTR A0001_001   2.419   3.912  13.784   1.000       0.001      01O000M000 \n",
      "ATOM      5  H2  NTR A0001_001   3.283   5.107  14.693   1.000       0.001      01O000M000 \n"
     ]
    }
   ],
   "source": [
    "!head -n 20 ../tests/data/ms_out/pH5eH0ms/pdbs_from_ms/mc0_ms1.pdb"
   ]
  },
  {
   "cell_type": "code",
   "execution_count": null,
   "metadata": {},
   "outputs": [],
   "source": []
  }
 ],
 "metadata": {
  "jupytext": {
   "formats": "ipynb,md"
  },
  "kernelspec": {
   "display_name": "Python [conda env:mce]",
   "language": "python",
   "name": "conda-env-mce-py"
  },
  "language_info": {
   "codemirror_mode": {
    "name": "ipython",
    "version": 3
   },
   "file_extension": ".py",
   "mimetype": "text/x-python",
   "name": "python",
   "nbconvert_exporter": "python",
   "pygments_lexer": "ipython3",
   "version": "3.11.5"
  }
 },
 "nbformat": 4,
 "nbformat_minor": 4
}
