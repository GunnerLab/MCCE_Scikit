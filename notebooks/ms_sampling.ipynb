{
 "cells": [
  {
   "cell_type": "markdown",
   "metadata": {},
   "source": [
    "_Cell 1: from jupyterlab template_: run it"
   ]
  },
  {
   "cell_type": "code",
   "execution_count": 1,
   "metadata": {},
   "outputs": [],
   "source": [
    "import sys\n",
    "from pathlib import Path\n",
    "import time\n",
    "import numpy as np\n",
    "from pprint import pprint as pp\n",
    "import matplotlib as mpl\n",
    "from matplotlib import pyplot as plt\n",
    "plt.ion()\n",
    "#plt.style.use('seaborn-v0_8-muted')\n",
    "#from IPython.display import HTML, Markdown #, IFrame\n",
    "\n",
    "# To get multiple outputs into 1 cell w/o using print:\n",
    "from IPython.core.interactiveshell import InteractiveShell\n",
    "InteractiveShell.ast_node_interactivity = \"all\"\n",
    "\n",
    "# autoreload extension\n",
    "from IPython import get_ipython\n",
    "\n",
    "ipython = get_ipython()\n",
    "if 'autoreload' not in ipython.extension_manager.loaded:\n",
    "    %load_ext autoreload\n",
    "%autoreload 2\n",
    "\n",
    "# -----------------------------------------\n",
    "# TWO USEFUL FUNCTIONS:\n",
    "\n",
    "def add_to_sys_path(this_path, up=False):\n",
    "    \"\"\"\n",
    "    Prepend this_path to sys.path.\n",
    "    If up=True, path refers to parent folder (1 level up).\n",
    "    \"\"\"\n",
    "    if up:\n",
    "        newp = Path(this_path).parent\n",
    "    else:\n",
    "        newp = Path(this_path)\n",
    "\n",
    "    src = newp.joinpath(\"src\")\n",
    "    if src.exists():\n",
    "        newp = str(src)\n",
    "    else:\n",
    "        newp = str(newp)\n",
    "\n",
    "    if newp not in sys.path:\n",
    "        sys.path.insert(1, newp)\n",
    "        print('Path added to sys.path: {}'.format(newp))\n",
    "\n",
    "# Filtered dir() for method discovery:\n",
    "def fdir(obj, start_with_str='_', exclude=True):\n",
    "    return [d for d in dir(obj) if not d.startswith(start_with_str) == exclude]\n"
   ]
  },
  {
   "cell_type": "markdown",
   "metadata": {},
   "source": [
    "_Cell 2: from jupyterlab template_: Uncomment (and amend it) to enable import of local modules."
   ]
  },
  {
   "cell_type": "code",
   "execution_count": 2,
   "metadata": {
    "scrolled": true
   },
   "outputs": [
    {
     "name": "stdout",
     "output_type": "stream",
     "text": [
      "Path added to sys.path: /home/cat/projects/MCCE_Scikit/src\n"
     ]
    }
   ],
   "source": [
    "# Insert current src dir into sys.path so that modules in ../src can be imported:\n",
    "# CHANGE THIS IF NEEDED:\n",
    "\n",
    "add_to_sys_path(Path.cwd(), up=True)"
   ]
  },
  {
   "cell_type": "markdown",
   "metadata": {},
   "source": [
    "---\n",
    "\n",
    "---\n",
    "\n",
    "# MCCE - MS Sampling (using test data in ../tests/data/)\n",
    "---"
   ]
  },
  {
   "cell_type": "code",
   "execution_count": 3,
   "metadata": {},
   "outputs": [],
   "source": [
    "import base\n",
    "import mcce_io as io\n",
    "import ms_sampling as sampling"
   ]
  },
  {
   "cell_type": "code",
   "execution_count": null,
   "metadata": {},
   "outputs": [],
   "source": [
    "DATA = Path.cwd().parent.joinpath(\"tests/data\")\n",
    "DATA"
   ]
  },
  {
   "cell_type": "code",
   "execution_count": null,
   "metadata": {},
   "outputs": [],
   "source": [
    "!ls {DATA}"
   ]
  },
  {
   "cell_type": "code",
   "execution_count": null,
   "metadata": {},
   "outputs": [],
   "source": [
    "# filepaths of inputs used by MS class:\n",
    "h3_path = DATA.joinpath(\"head3.lst\")\n",
    "mcce_output_path = h3_path.parent\n",
    "mcce_output_path\n",
    "\n",
    "step2_path = mcce_output_path.joinpath(\"step2_out.pdb\")\n",
    "msout_path = mcce_output_path.joinpath(\"ms_out\")\n",
    "msout_path, msout_path.is_dir()"
   ]
  },
  {
   "cell_type": "code",
   "execution_count": null,
   "metadata": {},
   "outputs": [],
   "source": [
    "# filepaths of outputs:\n",
    "\n",
    "pH = 5.0\n",
    "Eh= 0.0\n",
    "msout_file = io.get_msout_filename(mcce_output_path, pH, Eh)\n",
    "msout_file\n",
    "\n",
    "msout_file_dir = msout_file.parent.joinpath(msout_file.stem)\n",
    "msout_file_dir"
   ]
  },
  {
   "cell_type": "code",
   "execution_count": null,
   "metadata": {},
   "outputs": [],
   "source": [
    "start_time = time.time()\n",
    "\n",
    "io.split_msout_file(mcce_output_path, pH, Eh)\n",
    "\n",
    "end_time = time.time()\n",
    "print(\"io.divide_msout_file() took {:.2f} mins\".format((end_time - start_time)/60))"
   ]
  },
  {
   "cell_type": "code",
   "execution_count": null,
   "metadata": {},
   "outputs": [],
   "source": [
    "!ls {msout_file_dir}"
   ]
  },
  {
   "cell_type": "code",
   "execution_count": null,
   "metadata": {},
   "outputs": [],
   "source": [
    "pdbs_dir = msout_file_dir.joinpath(\"pdbs_from_ms\")"
   ]
  },
  {
   "cell_type": "code",
   "execution_count": null,
   "metadata": {},
   "outputs": [],
   "source": [
    "!ls {pdbs_dir}"
   ]
  },
  {
   "cell_type": "code",
   "execution_count": null,
   "metadata": {},
   "outputs": [],
   "source": [
    "io.clear_folder(pdbs_dir)\n",
    "!ls {pdbs_dir}"
   ]
  },
  {
   "cell_type": "markdown",
   "metadata": {},
   "source": [
    "# base.MC class"
   ]
  },
  {
   "cell_type": "code",
   "execution_count": null,
   "metadata": {},
   "outputs": [],
   "source": [
    "print(base.MS.__doc__)\n",
    "print(base.MS.__init__.__doc__)"
   ]
  },
  {
   "cell_type": "code",
   "execution_count": null,
   "metadata": {},
   "outputs": [],
   "source": [
    "# create instance\n",
    "start_time = time.time()\n",
    "\n",
    "ms = base.MS(mcce_output_path, pH, Eh)\n",
    "\n",
    "d = time.time() - start_time\n",
    "print(f\"Loading of base.MS instance took {d/60:.2f} mins or {d:.2f} seconds\")\n",
    "print(ms)"
   ]
  },
  {
   "cell_type": "code",
   "execution_count": null,
   "metadata": {},
   "outputs": [],
   "source": [
    "# Public vars in MC:\n",
    "fdir(ms)"
   ]
  },
  {
   "cell_type": "code",
   "execution_count": null,
   "metadata": {},
   "outputs": [],
   "source": [
    "ms.method"
   ]
  },
  {
   "cell_type": "markdown",
   "metadata": {},
   "source": [
    "# ms sampling"
   ]
  },
  {
   "cell_type": "code",
   "execution_count": null,
   "metadata": {},
   "outputs": [],
   "source": [
    "fdir(sampling)"
   ]
  },
  {
   "cell_type": "code",
   "execution_count": null,
   "metadata": {},
   "outputs": [],
   "source": [
    "n_sample_size = 5\n",
    "ms_sort_by = \"energy\"\n",
    "output_dir = msout_file_dir"
   ]
  },
  {
   "cell_type": "code",
   "execution_count": null,
   "metadata": {},
   "outputs": [],
   "source": [
    "# create pdbs from samples ms\n",
    "start_time = time.time()\n",
    "\n",
    "sampling.pdbs_from_ms_samples(ms,\n",
    "                              mcce_output_path,\n",
    "                              n_sample_size,\n",
    "                              ms_sort_by,\n",
    "                              output_dir,\n",
    "                              list_files=True)\n",
    "\n",
    "d = time.time() - start_time\n",
    "print(f\"`sampling.pdbs_from_ms_samples` with sample size={n_sample_size:,} took {d/60:.2f} mins or {d:.2f} seconds\")"
   ]
  },
  {
   "cell_type": "code",
   "execution_count": null,
   "metadata": {},
   "outputs": [],
   "source": [
    "!head -n 20 ../tests/data/ms_out/pH5eH0ms/pdbs_from_ms/mc0_ms1.pdb"
   ]
  },
  {
   "cell_type": "code",
   "execution_count": null,
   "metadata": {},
   "outputs": [],
   "source": []
  }
 ],
 "metadata": {
  "jupytext": {
   "formats": "ipynb,md"
  },
  "kernelspec": {
   "display_name": "Python [conda env:mce]",
   "language": "python",
   "name": "conda-env-mce-py"
  },
  "language_info": {
   "codemirror_mode": {
    "name": "ipython",
    "version": 3
   },
   "file_extension": ".py",
   "mimetype": "text/x-python",
   "name": "python",
   "nbconvert_exporter": "python",
   "pygments_lexer": "ipython3",
   "version": "3.11.5"
  }
 },
 "nbformat": 4,
 "nbformat_minor": 4
}
