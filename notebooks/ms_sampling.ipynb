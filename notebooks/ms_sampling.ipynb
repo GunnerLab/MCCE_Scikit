{
 "cells": [
  {
   "cell_type": "markdown",
   "metadata": {},
   "source": [
    "_First cell: from jupyterlab template_"
   ]
  },
  {
   "cell_type": "code",
   "execution_count": 1,
   "metadata": {
    "jupyter": {
     "source_hidden": true
    },
    "scrolled": true
   },
   "outputs": [
    {
     "name": "stdout",
     "output_type": "stream",
     "text": [
      "Path added to sys.path: /home/cat/projects/MCCE_Scikit/src\n"
     ]
    }
   ],
   "source": [
    "import sys\n",
    "from pathlib import Path\n",
    "\n",
    "def add_to_sys_path(this_path, up=False):\n",
    "    \"\"\"\n",
    "    Prepend this_path to sys.path.\n",
    "    If up=True, path refers to parent folder (1 level up).\n",
    "    \"\"\"\n",
    "    if up:\n",
    "        newp = Path(this_path).parent\n",
    "        # check if src folder:\n",
    "        src = newp.joinpath(\"src\")\n",
    "        if src.exists():\n",
    "            newp = str(src)\n",
    "        else:\n",
    "            newp = str(newp)\n",
    "    else:\n",
    "        newp = str(Path(this_path)) \n",
    "\n",
    "    if newp not in sys.path:\n",
    "        sys.path.insert(1, newp)\n",
    "        print('Path added to sys.path: {}'.format(newp))\n",
    "\n",
    "# if notebook inside another folder, eg ./notebooks:\n",
    "nb_folder = 'notebooks'\n",
    "add_to_sys_path(Path.cwd(), Path.cwd().name.startswith(nb_folder))\n",
    "\n",
    "def get_project_dirs(which=['data', 'images'], nb_folder='notebooks'):\n",
    "    dir_lst = []\n",
    "    if Path.cwd().name.startswith(nb_folder):\n",
    "        dir_fn = Path.cwd().parent.joinpath\n",
    "    else:\n",
    "        dir_fn = Path.cwd().joinpath     \n",
    "\n",
    "    for d in which:\n",
    "        DIR = dir_fn(d)\n",
    "        if not DIR.exists():\n",
    "            Path.mkdir(DIR)\n",
    "        dir_lst.append(DIR)\n",
    "    return dir_lst\n",
    "\n",
    "#DIR_DATA, DIR_IMG = get_project_dirs()\n",
    "\n",
    "import numpy as np\n",
    "import matplotlib as mpl\n",
    "from matplotlib import pyplot as plt\n",
    "plt.ion()\n",
    "plt.style.use('seaborn-v0_8-muted')\n",
    "from pprint import pprint as pp\n",
    "\n",
    "# Filtered dir() for method discovery:\n",
    "def fdir(obj, start_with_str='_', exclude=True):\n",
    "    return [d for d in dir(obj) if not d.startswith(start_with_str) == exclude]\n",
    "\n",
    "from IPython.core.interactiveshell import InteractiveShell\n",
    "InteractiveShell.ast_node_interactivity = \"all\"\n",
    "\n",
    "from IPython.display import HTML, Markdown #, IFrame\n",
    "\n",
    "# autoreload extension\n",
    "from IPython import get_ipython\n",
    "ipython = get_ipython()\n",
    "if 'autoreload' not in ipython.extension_manager.loaded:\n",
    "    %load_ext autoreload\n",
    "%autoreload 2"
   ]
  },
  {
   "cell_type": "markdown",
   "metadata": {},
   "source": [
    "---\n",
    "\n",
    "---\n",
    "\n",
    "# MCCE - MS Sampling\n",
    "---"
   ]
  },
  {
   "cell_type": "code",
   "execution_count": 2,
   "metadata": {},
   "outputs": [],
   "source": [
    "import time\n",
    "import base\n",
    "import mcce_io as io\n",
    "import ms_sampling as sampling"
   ]
  },
  {
   "cell_type": "code",
   "execution_count": 3,
   "metadata": {},
   "outputs": [
    {
     "data": {
      "text/plain": [
       "PosixPath('/home/cat/projects/MCCE_Scikit/tests/data')"
      ]
     },
     "execution_count": 3,
     "metadata": {},
     "output_type": "execute_result"
    }
   ],
   "source": [
    "DATA = Path.cwd().parent.joinpath(\"tests/data\")\n",
    "DATA"
   ]
  },
  {
   "cell_type": "code",
   "execution_count": 4,
   "metadata": {},
   "outputs": [
    {
     "name": "stdout",
     "output_type": "stream",
     "text": [
      "head3.lst  ms_out  run.prm.record  step2_out.pdb\n"
     ]
    }
   ],
   "source": [
    "!ls {DATA}"
   ]
  },
  {
   "cell_type": "code",
   "execution_count": 5,
   "metadata": {},
   "outputs": [
    {
     "data": {
      "text/plain": [
       "PosixPath('/home/cat/projects/MCCE_Scikit/tests/data')"
      ]
     },
     "execution_count": 5,
     "metadata": {},
     "output_type": "execute_result"
    },
    {
     "data": {
      "text/plain": [
       "PosixPath('/home/cat/projects/MCCE_Scikit/tests/data')"
      ]
     },
     "execution_count": 5,
     "metadata": {},
     "output_type": "execute_result"
    },
    {
     "data": {
      "text/plain": [
       "(PosixPath('/home/cat/projects/MCCE_Scikit/tests/data/ms_out'), True)"
      ]
     },
     "execution_count": 5,
     "metadata": {},
     "output_type": "execute_result"
    }
   ],
   "source": [
    "DATA = Path.cwd().parent.joinpath(\"tests/data\")\n",
    "DATA\n",
    "\n",
    "# filepaths of inputs used by MS class:\n",
    "h3_path = DATA.joinpath(\"head3.lst\")\n",
    "mcce_output_path = h3_path.parent\n",
    "mcce_output_path\n",
    "\n",
    "step2_path = mcce_output_path.joinpath(\"step2_out.pdb\")\n",
    "msout_path = mcce_output_path.joinpath(\"ms_out\")\n",
    "msout_path, msout_path.is_dir()"
   ]
  },
  {
   "cell_type": "code",
   "execution_count": 6,
   "metadata": {},
   "outputs": [
    {
     "data": {
      "text/plain": [
       "PosixPath('/home/cat/projects/MCCE_Scikit/tests/data/ms_out/pH5eH0ms.txt')"
      ]
     },
     "execution_count": 6,
     "metadata": {},
     "output_type": "execute_result"
    },
    {
     "data": {
      "text/plain": [
       "PosixPath('/home/cat/projects/MCCE_Scikit/tests/data/ms_out/pH5eH0ms')"
      ]
     },
     "execution_count": 6,
     "metadata": {},
     "output_type": "execute_result"
    }
   ],
   "source": [
    "# filepaths of outputs:\n",
    "\n",
    "pH = 5.0\n",
    "Eh= 0.0\n",
    "msout_file = io.get_msout_filename(mcce_output_path, pH, Eh)\n",
    "msout_file\n",
    "\n",
    "msout_file_dir = msout_file.parent.joinpath(msout_file.stem)\n",
    "msout_file_dir"
   ]
  },
  {
   "cell_type": "code",
   "execution_count": 7,
   "metadata": {},
   "outputs": [
    {
     "name": "stdout",
     "output_type": "stream",
     "text": [
      "The ms_out file is already split into header and MCi files. Set `overwrite` to True to replace them.\n",
      "io.divide_msout_file() took 0.00 mins\n"
     ]
    }
   ],
   "source": [
    "start_time = time.time()\n",
    "\n",
    "io.split_msout_file(mcce_output_path, pH, Eh)\n",
    "\n",
    "end_time = time.time()\n",
    "print(\"io.divide_msout_file() took {:.2f} mins\".format((end_time - start_time)/60))"
   ]
  },
  {
   "cell_type": "code",
   "execution_count": 8,
   "metadata": {},
   "outputs": [
    {
     "name": "stdout",
     "output_type": "stream",
     "text": [
      "MC0  MC1  MC2  MC3  MC4  MC5  header\n"
     ]
    }
   ],
   "source": [
    "!ls {msout_file_dir}"
   ]
  },
  {
   "cell_type": "code",
   "execution_count": 9,
   "metadata": {},
   "outputs": [],
   "source": [
    "#io.clear_folder(msout_file_dir)"
   ]
  },
  {
   "cell_type": "markdown",
   "metadata": {},
   "source": [
    "# base.MC class"
   ]
  },
  {
   "cell_type": "code",
   "execution_count": 10,
   "metadata": {},
   "outputs": [
    {
     "name": "stdout",
     "output_type": "stream",
     "text": [
      "Uses split ms_out files.\n",
      "MS.init\n",
      "\n",
      "        Parameters:\n",
      "            mcce_output_path (str): A MCCE simulation output folder.\n",
      "            pH (int or float): A pH point.\n",
      "            Eh (int or float): A Eh point.\n",
      "            selected_MC (int): The index of an MC run; one of `range(constants.MONTERUNS)`.\n",
      "            overwrite_split_files (bool): whether to redo the splitting of msout_file.\n",
      "        \n"
     ]
    }
   ],
   "source": [
    "print(base.MS.__doc__)\n",
    "print(base.MS.__init__.__doc__)"
   ]
  },
  {
   "cell_type": "code",
   "execution_count": 11,
   "metadata": {},
   "outputs": [
    {
     "name": "stdout",
     "output_type": "stream",
     "text": [
      "Loading of base.MS instance took 0.14 mins\n",
      "MS(\"/home/cat/projects/MCCE_Scikit/tests/data\", 5.0, 0.0, selected_MC=0, overwrite_split_files=False)\n"
     ]
    }
   ],
   "source": [
    "# create instance\n",
    "start_time = time.time()\n",
    "\n",
    "ms = base.MS(mcce_output_path, pH, Eh)\n",
    "\n",
    "end_time = time.time()\n",
    "print(\"Loading of base.MS instance took {:.2f} mins\".format((end_time - start_time)/60))\n",
    "print(ms)"
   ]
  },
  {
   "cell_type": "code",
   "execution_count": 12,
   "metadata": {},
   "outputs": [
    {
     "data": {
      "text/plain": [
       "['Eh',\n",
       " 'N_ms',\n",
       " 'N_uniq',\n",
       " 'T',\n",
       " 'confnames_by_iconfs',\n",
       " 'conformers',\n",
       " 'counts',\n",
       " 'fixed_confs',\n",
       " 'fixed_crg',\n",
       " 'fixed_iconfs',\n",
       " 'fixed_ne',\n",
       " 'fixed_nh',\n",
       " 'fixed_residue_names',\n",
       " 'fname',\n",
       " 'free_residue_names',\n",
       " 'free_residues',\n",
       " 'get_occ',\n",
       " 'iconf_by_confname',\n",
       " 'ires_by_iconf',\n",
       " 'mcce_out',\n",
       " 'method',\n",
       " 'microstates',\n",
       " 'msout_file_dir',\n",
       " 'overwrite_split_files',\n",
       " 'pH',\n",
       " 'select_by_conformer',\n",
       " 'select_by_energy',\n",
       " 'selected_MC']"
      ]
     },
     "execution_count": 12,
     "metadata": {},
     "output_type": "execute_result"
    }
   ],
   "source": [
    "fdir(ms)"
   ]
  },
  {
   "cell_type": "markdown",
   "metadata": {},
   "source": [
    "# ms sampling"
   ]
  },
  {
   "cell_type": "code",
   "execution_count": 13,
   "metadata": {},
   "outputs": [
    {
     "data": {
      "text/plain": [
       "['Path',\n",
       " 'base',\n",
       " 'get_selected_confs',\n",
       " 'io',\n",
       " 'np',\n",
       " 'pdbs_from_ms_samples',\n",
       " 'sample_microstates',\n",
       " 'sort_microstate_list']"
      ]
     },
     "execution_count": 13,
     "metadata": {},
     "output_type": "execute_result"
    }
   ],
   "source": [
    "fdir(sampling)"
   ]
  },
  {
   "cell_type": "code",
   "execution_count": 14,
   "metadata": {},
   "outputs": [],
   "source": [
    "n_sample_size = 5\n",
    "ms_sort_by = \"energy\"\n",
    "output_dir = msout_file_dir"
   ]
  },
  {
   "cell_type": "code",
   "execution_count": 15,
   "metadata": {},
   "outputs": [
    {
     "name": "stdout",
     "output_type": "stream",
     "text": [
      "PDB files creation over.\n",
      "Files in /home/cat/projects/MCCE_Scikit/tests/data/ms_out/pH5eH0ms/pdbs_from_ms:\n",
      "\n",
      "\t /home/cat/projects/MCCE_Scikit/tests/data/ms_out/pH5eH0ms/pdbs_from_ms/mc0_ms278053.pdb\n",
      "\t /home/cat/projects/MCCE_Scikit/tests/data/ms_out/pH5eH0ms/pdbs_from_ms/mc0_ms1.pdb\n",
      "\t /home/cat/projects/MCCE_Scikit/tests/data/ms_out/pH5eH0ms/pdbs_from_ms/mc0_ms91192.pdb\n",
      "\t /home/cat/projects/MCCE_Scikit/tests/data/ms_out/pH5eH0ms/pdbs_from_ms/mc0_ms183964.pdb\n",
      "\t /home/cat/projects/MCCE_Scikit/tests/data/ms_out/pH5eH0ms/pdbs_from_ms/mc0_ms373222.pdb\n",
      "`sampling.pdbs_from_ms_samples` with sample size=5 took 0.02 mins\n"
     ]
    }
   ],
   "source": [
    "# create pdbs from samples ms\n",
    "start_time = time.time()\n",
    "\n",
    "sampling.pdbs_from_ms_samples(ms,\n",
    "                              mcce_output_path,\n",
    "                              n_sample_size,\n",
    "                              ms_sort_by,\n",
    "                              output_dir,\n",
    "                              list_files=True)\n",
    "\n",
    "end_time = time.time()\n",
    "print(\"`sampling.pdbs_from_ms_samples` with sample size={:,} took {:.2f} mins\".format(n_sample_size, (end_time - start_time)/60))"
   ]
  },
  {
   "cell_type": "code",
   "execution_count": null,
   "metadata": {},
   "outputs": [],
   "source": []
  }
 ],
 "metadata": {
  "kernelspec": {
   "display_name": "Python [conda env:mce]",
   "language": "python",
   "name": "conda-env-mce-py"
  },
  "language_info": {
   "codemirror_mode": {
    "name": "ipython",
    "version": 3
   },
   "file_extension": ".py",
   "mimetype": "text/x-python",
   "name": "python",
   "nbconvert_exporter": "python",
   "pygments_lexer": "ipython3",
   "version": "3.11.5"
  }
 },
 "nbformat": 4,
 "nbformat_minor": 4
}
