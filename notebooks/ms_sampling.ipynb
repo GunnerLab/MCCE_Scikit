{
 "cells": [
  {
   "cell_type": "markdown",
   "metadata": {},
   "source": [
    "_Cell 1: from jupyterlab template_: run it"
   ]
  },
  {
   "cell_type": "code",
   "execution_count": 2,
   "metadata": {
    "jupyter": {
     "source_hidden": true
    }
   },
   "outputs": [],
   "source": [
    "import sys\n",
    "from pathlib import Path\n",
    "import time\n",
    "import numpy as np\n",
    "from pprint import pprint as pp\n",
    "import matplotlib as mpl\n",
    "from matplotlib import pyplot as plt\n",
    "plt.ion()\n",
    "#plt.style.use('seaborn-v0_8-muted')\n",
    "#from IPython.display import HTML, Markdown #, IFrame\n",
    "\n",
    "# To get multiple outputs into 1 cell w/o using print:\n",
    "from IPython.core.interactiveshell import InteractiveShell\n",
    "InteractiveShell.ast_node_interactivity = \"all\"\n",
    "\n",
    "# autoreload extension\n",
    "from IPython import get_ipython\n",
    "\n",
    "ipython = get_ipython()\n",
    "if 'autoreload' not in ipython.extension_manager.loaded:\n",
    "    %load_ext autoreload\n",
    "%autoreload 2\n",
    "\n",
    "# -----------------------------------------\n",
    "# TWO USEFUL FUNCTIONS:\n",
    "\n",
    "def add_to_sys_path(this_path, up=False):\n",
    "    \"\"\"\n",
    "    Prepend this_path to sys.path.\n",
    "    If up=True, path refers to parent folder (1 level up).\n",
    "    \"\"\"\n",
    "    if up:\n",
    "        newp = Path(this_path).parent\n",
    "        # check if src folder:\n",
    "        src = newp.joinpath(\"src\")\n",
    "        if src.exists():\n",
    "            newp = str(src)\n",
    "        else:\n",
    "            newp = str(newp)\n",
    "    else:\n",
    "        newp = str(Path(this_path))\n",
    "\n",
    "    if newp not in sys.path:\n",
    "        sys.path.insert(1, newp)\n",
    "        print('Path added to sys.path: {}'.format(newp))\n",
    "\n",
    "# Filtered dir() for method discovery:\n",
    "def fdir(obj, start_with_str='_', exclude=True):\n",
    "    return [d for d in dir(obj) if not d.startswith(start_with_str) == exclude]\n"
   ]
  },
  {
   "cell_type": "markdown",
   "metadata": {},
   "source": [
    "_Cell 2: from jupyterlab template_: run it"
   ]
  },
  {
   "cell_type": "code",
   "execution_count": 3,
   "metadata": {
    "scrolled": true
   },
   "outputs": [
    {
     "name": "stdout",
     "output_type": "stream",
     "text": [
      "Path added to sys.path: /home/cat/projects/MCCE_Scikit/src\n"
     ]
    }
   ],
   "source": [
    "# Insert current dir (or its parent) into sys.path so that modules in ../src\n",
    "# can be imported:\n",
    "# CHANGE THIS IF NEEDED:\n",
    "# If this notebook inside another folder, eg ./notebooks:\n",
    "nb_folder = 'notebooks'\n",
    "add_to_sys_path(Path.cwd(), Path.cwd().name.startswith(nb_folder))"
   ]
  },
  {
   "cell_type": "markdown",
   "metadata": {},
   "source": [
    "---\n",
    "\n",
    "---\n",
    "\n",
    "# MCCE - MS Sampling (using test data in ../tests/data/)\n",
    "---"
   ]
  },
  {
   "cell_type": "code",
   "execution_count": 4,
   "metadata": {},
   "outputs": [],
   "source": [
    "import base\n",
    "import mcce_io as io\n",
    "import ms_sampling as sampling"
   ]
  },
  {
   "cell_type": "code",
   "execution_count": 5,
   "metadata": {},
   "outputs": [
    {
     "data": {
      "text/plain": [
       "PosixPath('/home/cat/projects/MCCE_Scikit/tests/data')"
      ]
     },
     "execution_count": 5,
     "metadata": {},
     "output_type": "execute_result"
    }
   ],
   "source": [
    "DATA = Path.cwd().parent.joinpath(\"tests/data\")\n",
    "DATA"
   ]
  },
  {
   "cell_type": "code",
   "execution_count": 6,
   "metadata": {},
   "outputs": [
    {
     "name": "stdout",
     "output_type": "stream",
     "text": [
      "head3.lst  ms_out  run.prm.record  step2_out.pdb\n"
     ]
    }
   ],
   "source": [
    "!ls {DATA}"
   ]
  },
  {
   "cell_type": "code",
   "execution_count": 7,
   "metadata": {},
   "outputs": [
    {
     "data": {
      "text/plain": [
       "PosixPath('/home/cat/projects/MCCE_Scikit/tests/data')"
      ]
     },
     "execution_count": 7,
     "metadata": {},
     "output_type": "execute_result"
    },
    {
     "data": {
      "text/plain": [
       "(PosixPath('/home/cat/projects/MCCE_Scikit/tests/data/ms_out'), True)"
      ]
     },
     "execution_count": 7,
     "metadata": {},
     "output_type": "execute_result"
    }
   ],
   "source": [
    "# filepaths of inputs used by MS class:\n",
    "h3_path = DATA.joinpath(\"head3.lst\")\n",
    "mcce_output_path = h3_path.parent\n",
    "mcce_output_path\n",
    "\n",
    "step2_path = mcce_output_path.joinpath(\"step2_out.pdb\")\n",
    "msout_path = mcce_output_path.joinpath(\"ms_out\")\n",
    "msout_path, msout_path.is_dir()"
   ]
  },
  {
   "cell_type": "code",
   "execution_count": 8,
   "metadata": {},
   "outputs": [
    {
     "data": {
      "text/plain": [
       "PosixPath('/home/cat/projects/MCCE_Scikit/tests/data/ms_out/pH5eH0ms.txt')"
      ]
     },
     "execution_count": 8,
     "metadata": {},
     "output_type": "execute_result"
    },
    {
     "data": {
      "text/plain": [
       "PosixPath('/home/cat/projects/MCCE_Scikit/tests/data/ms_out/pH5eH0ms')"
      ]
     },
     "execution_count": 8,
     "metadata": {},
     "output_type": "execute_result"
    }
   ],
   "source": [
    "# filepaths of outputs:\n",
    "\n",
    "pH = 5.0\n",
    "Eh= 0.0\n",
    "msout_file = io.get_msout_filename(mcce_output_path, pH, Eh)\n",
    "msout_file\n",
    "\n",
    "msout_file_dir = msout_file.parent.joinpath(msout_file.stem)\n",
    "msout_file_dir"
   ]
  },
  {
   "cell_type": "code",
   "execution_count": 9,
   "metadata": {},
   "outputs": [
    {
     "name": "stdout",
     "output_type": "stream",
     "text": [
      "The ms_out file is already split into header and MCi files. Set `overwrite` to True to replace them.\n",
      "io.divide_msout_file() took 0.00 mins\n"
     ]
    }
   ],
   "source": [
    "start_time = time.time()\n",
    "\n",
    "io.split_msout_file(mcce_output_path, pH, Eh)\n",
    "\n",
    "end_time = time.time()\n",
    "print(\"io.divide_msout_file() took {:.2f} mins\".format((end_time - start_time)/60))"
   ]
  },
  {
   "cell_type": "code",
   "execution_count": 10,
   "metadata": {},
   "outputs": [
    {
     "name": "stdout",
     "output_type": "stream",
     "text": [
      "MC0  MC1  MC2  MC3  MC4  MC5  header  pdbs_from_ms\n"
     ]
    }
   ],
   "source": [
    "!ls {msout_file_dir}"
   ]
  },
  {
   "cell_type": "code",
   "execution_count": 12,
   "metadata": {},
   "outputs": [],
   "source": [
    "pdbs_dir = msout_file_dir.joinpath(\"pdbs_from_ms\")"
   ]
  },
  {
   "cell_type": "code",
   "execution_count": 13,
   "metadata": {},
   "outputs": [
    {
     "name": "stdout",
     "output_type": "stream",
     "text": [
      "mc0_ms1.pdb\t  mc0_ms278053.pdb  mc0_ms91192.pdb\n",
      "mc0_ms183964.pdb  mc0_ms373222.pdb\n"
     ]
    }
   ],
   "source": [
    "!ls {pdbs_dir}"
   ]
  },
  {
   "cell_type": "code",
   "execution_count": 15,
   "metadata": {},
   "outputs": [],
   "source": [
    "io.clear_folder(pdbs_dir)\n",
    "!ls {pdbs_dir}"
   ]
  },
  {
   "cell_type": "markdown",
   "metadata": {},
   "source": [
    "# base.MC class"
   ]
  },
  {
   "cell_type": "code",
   "execution_count": 16,
   "metadata": {},
   "outputs": [
    {
     "name": "stdout",
     "output_type": "stream",
     "text": [
      "Uses split ms_out files.\n",
      "MS.init\n",
      "\n",
      "        Parameters:\n",
      "            mcce_output_path (str): A MCCE simulation output folder.\n",
      "            pH (int or float): A pH point.\n",
      "            Eh (int or float): A Eh point.\n",
      "            selected_MC (int): The index of an MC run; one of `range(constants.MONTERUNS)`.\n",
      "            overwrite_split_files (bool): whether to redo the splitting of msout_file.\n",
      "        \n"
     ]
    }
   ],
   "source": [
    "print(base.MS.__doc__)\n",
    "print(base.MS.__init__.__doc__)"
   ]
  },
  {
   "cell_type": "code",
   "execution_count": 27,
   "metadata": {},
   "outputs": [
    {
     "name": "stdout",
     "output_type": "stream",
     "text": [
      "Loading of base.MS instance took 0.15 mins or 9.02 seconds\n",
      "MS(\"/home/cat/projects/MCCE_Scikit/tests/data\", 5.0, 0.0, selected_MC=0, overwrite_split_files=False)\n"
     ]
    }
   ],
   "source": [
    "# create instance\n",
    "start_time = time.time()\n",
    "\n",
    "ms = base.MS(mcce_output_path, pH, Eh)\n",
    "\n",
    "d = time.time() - start_time\n",
    "print(f\"Loading of base.MS instance took {d/60:.2f} mins or {d:.2f} seconds\")\n",
    "print(ms)"
   ]
  },
  {
   "cell_type": "code",
   "execution_count": 28,
   "metadata": {},
   "outputs": [
    {
     "data": {
      "text/plain": [
       "['Eh',\n",
       " 'N_ms',\n",
       " 'N_uniq',\n",
       " 'T',\n",
       " 'confnames_by_iconfs',\n",
       " 'conformers',\n",
       " 'counts',\n",
       " 'fixed_confs',\n",
       " 'fixed_crg',\n",
       " 'fixed_iconfs',\n",
       " 'fixed_ne',\n",
       " 'fixed_nh',\n",
       " 'fixed_residue_names',\n",
       " 'fname',\n",
       " 'free_residue_names',\n",
       " 'free_residues',\n",
       " 'get_occ',\n",
       " 'iconf_by_confname',\n",
       " 'ires_by_iconf',\n",
       " 'mcce_out',\n",
       " 'method',\n",
       " 'microstates',\n",
       " 'msout_file_dir',\n",
       " 'overwrite_split_files',\n",
       " 'pH',\n",
       " 'select_by_conformer',\n",
       " 'select_by_energy',\n",
       " 'selected_MC']"
      ]
     },
     "execution_count": 28,
     "metadata": {},
     "output_type": "execute_result"
    }
   ],
   "source": [
    "# Public vars in MC:\n",
    "fdir(ms)"
   ]
  },
  {
   "cell_type": "code",
   "execution_count": 35,
   "metadata": {},
   "outputs": [
    {
     "data": {
      "text/plain": [
       "'MONTERUNS'"
      ]
     },
     "execution_count": 35,
     "metadata": {},
     "output_type": "execute_result"
    }
   ],
   "source": [
    "ms.method"
   ]
  },
  {
   "cell_type": "markdown",
   "metadata": {},
   "source": [
    "# ms sampling"
   ]
  },
  {
   "cell_type": "code",
   "execution_count": 29,
   "metadata": {},
   "outputs": [
    {
     "data": {
      "text/plain": [
       "['Path',\n",
       " 'base',\n",
       " 'get_pdb_remark',\n",
       " 'get_selected_confs',\n",
       " 'io',\n",
       " 'np',\n",
       " 'pdbs_from_ms_samples',\n",
       " 'sample_microstates',\n",
       " 'sort_microstate_list']"
      ]
     },
     "execution_count": 29,
     "metadata": {},
     "output_type": "execute_result"
    }
   ],
   "source": [
    "fdir(sampling)"
   ]
  },
  {
   "cell_type": "code",
   "execution_count": 30,
   "metadata": {},
   "outputs": [],
   "source": [
    "n_sample_size = 5\n",
    "ms_sort_by = \"energy\"\n",
    "output_dir = msout_file_dir"
   ]
  },
  {
   "cell_type": "code",
   "execution_count": 36,
   "metadata": {},
   "outputs": [
    {
     "name": "stdout",
     "output_type": "stream",
     "text": [
      "PDB files creation over.\n",
      "Files in /home/cat/projects/MCCE_Scikit/tests/data/ms_out/pH5eH0ms/pdbs_from_ms:\n",
      "\n",
      "\t /home/cat/projects/MCCE_Scikit/tests/data/ms_out/pH5eH0ms/pdbs_from_ms/mc0_ms278053.pdb\n",
      "\t /home/cat/projects/MCCE_Scikit/tests/data/ms_out/pH5eH0ms/pdbs_from_ms/mc0_ms1.pdb\n",
      "\t /home/cat/projects/MCCE_Scikit/tests/data/ms_out/pH5eH0ms/pdbs_from_ms/mc0_ms91192.pdb\n",
      "\t /home/cat/projects/MCCE_Scikit/tests/data/ms_out/pH5eH0ms/pdbs_from_ms/mc0_ms183964.pdb\n",
      "\t /home/cat/projects/MCCE_Scikit/tests/data/ms_out/pH5eH0ms/pdbs_from_ms/mc0_ms373222.pdb\n",
      "`sampling.pdbs_from_ms_samples` with sample size=5 took 0.03 mins or 1.85 seconds\n"
     ]
    }
   ],
   "source": [
    "# create pdbs from samples ms\n",
    "start_time = time.time()\n",
    "\n",
    "sampling.pdbs_from_ms_samples(ms,\n",
    "                              mcce_output_path,\n",
    "                              n_sample_size,\n",
    "                              ms_sort_by,\n",
    "                              output_dir,\n",
    "                              list_files=True)\n",
    "\n",
    "d = time.time() - start_time\n",
    "print(f\"`sampling.pdbs_from_ms_samples` with sample size={n_sample_size:,} took {d/60:.2f} mins or {d:.2f} seconds\")"
   ]
  },
  {
   "cell_type": "code",
   "execution_count": 37,
   "metadata": {},
   "outputs": [
    {
     "name": "stdout",
     "output_type": "stream",
     "text": [
      "\n",
      "REMARK 250\n",
      "REMARK 250 EXPERIMENTAL DETAILS\n",
      "REMARK 250   EXPERIMENT TYPE               : MCCE simulation\n",
      "REMARK 250   DATE OF DATA COLLECTION       : 23-Oct-23\n",
      "REMARK 250   REMARK: DATE OF DATA COLLECTION is the date this pdb was created.\n",
      "REMARK 250 EXPERIMENTAL CONDITIONS\n",
      "REMARK 250   TEMPERATURE                   : 298.15 (K)\n",
      "REMARK 250   PH                            : 5.00\n",
      "REMARK 250   EH                            : 0.00\n",
      "REMARK 250   METHOD                        : MONTERUNS\n",
      "REMARK 250   SELECTED MONTERUN             : 0\n",
      "REMARK 250   SELECTED MICROSTATE INDEX     : 1\n",
      "REMARK 250   SELECTED MICROSTATE ENERGY    : 202.89 (kcal/mol)\n",
      "REMARK 250\n",
      "ATOM     12  C   LYS A0001_000   3.389   7.073  13.137   1.700       0.550      BK____M000 \n",
      "ATOM     13  O   LYS A0001_000   3.213   7.476  14.285   1.400      -0.550      BK____M000 \n",
      "ATOM     45  N   VAL A0002_000   4.060   7.689  12.193   1.500      -0.350      BK____M000 \n",
      "ATOM     46  H   VAL A0002_000   4.220   7.233  11.317   1.000       0.250      BK____M000 \n",
      "ATOM     47  CA  VAL A0002_000   4.573   9.034  12.415   2.000       0.100      BK____M000 \n"
     ]
    }
   ],
   "source": [
    "!head -n 20 ../tests/data/ms_out/pH5eH0ms/pdbs_from_ms/mc0_ms1.pdb"
   ]
  },
  {
   "cell_type": "code",
   "execution_count": null,
   "metadata": {},
   "outputs": [],
   "source": []
  }
 ],
 "metadata": {
  "kernelspec": {
   "display_name": "Python [conda env:mce]",
   "language": "python",
   "name": "conda-env-mce-py"
  },
  "language_info": {
   "codemirror_mode": {
    "name": "ipython",
    "version": 3
   },
   "file_extension": ".py",
   "mimetype": "text/x-python",
   "name": "python",
   "nbconvert_exporter": "python",
   "pygments_lexer": "ipython3",
   "version": "3.11.5"
  }
 },
 "nbformat": 4,
 "nbformat_minor": 4
}
