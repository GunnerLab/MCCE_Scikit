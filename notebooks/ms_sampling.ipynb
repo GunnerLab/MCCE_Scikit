{
 "cells": [
  {
   "cell_type": "code",
   "execution_count": 19,
   "metadata": {
    "jupyter": {
     "source_hidden": true
    },
    "scrolled": true
   },
   "outputs": [
    {
     "data": {
      "text/plain": [
       "<contextlib.ExitStack at 0x7f702a5ec890>"
      ]
     },
     "execution_count": 19,
     "metadata": {},
     "output_type": "execute_result"
    },
    {
     "name": "stdout",
     "output_type": "stream",
     "text": [
      "The autoreload extension is already loaded. To reload it, use:\n",
      "  %reload_ext autoreload\n"
     ]
    }
   ],
   "source": [
    "import sys\n",
    "from pathlib import Path\n",
    "\n",
    "def add_to_sys_path(this_path, up=False):\n",
    "    \"\"\"\n",
    "    Prepend this_path to sys.path.\n",
    "    If up=True, path refers to parent folder (1 level up).\n",
    "    \"\"\"\n",
    "    if up:\n",
    "        newp = Path(this_path).parent\n",
    "        # check if src folder:\n",
    "        src = newp.joinpath(\"src\")\n",
    "        if src.exists():\n",
    "            newp = str(src)\n",
    "        else:\n",
    "            newp = str(newp)\n",
    "    else:\n",
    "        newp = str(Path(this_path)) \n",
    "\n",
    "    if newp not in sys.path:\n",
    "        sys.path.insert(1, newp)\n",
    "        print('Path added to sys.path: {}'.format(newp))\n",
    "\n",
    "# if notebook inside another folder, eg ./notebooks:\n",
    "nb_folder = 'notebooks'\n",
    "add_to_sys_path(Path.cwd(), Path.cwd().name.startswith(nb_folder))\n",
    "\n",
    "def get_project_dirs(which=['data', 'images'], nb_folder='notebooks'):\n",
    "    dir_lst = []\n",
    "    if Path.cwd().name.startswith(nb_folder):\n",
    "        dir_fn = Path.cwd().parent.joinpath\n",
    "    else:\n",
    "        dir_fn = Path.cwd().joinpath     \n",
    "\n",
    "    for d in which:\n",
    "        DIR = dir_fn(d)\n",
    "        if not DIR.exists():\n",
    "            Path.mkdir(DIR)\n",
    "        dir_lst.append(DIR)\n",
    "    return dir_lst\n",
    "\n",
    "#DIR_DATA, DIR_IMG = get_project_dirs()\n",
    "\n",
    "import numpy as np\n",
    "import matplotlib as mpl\n",
    "from matplotlib import pyplot as plt\n",
    "plt.ion()\n",
    "plt.style.use('seaborn-v0_8-muted')\n",
    "from pprint import pprint as pp\n",
    "\n",
    "# Filtered dir() for method discovery:\n",
    "def fdir(obj, start_with_str='_', exclude=True):\n",
    "    return [d for d in dir(obj) if not d.startswith(start_with_str) == exclude]\n",
    "\n",
    "from IPython.core.interactiveshell import InteractiveShell\n",
    "InteractiveShell.ast_node_interactivity = \"all\"\n",
    "\n",
    "from IPython.display import HTML, Markdown #, IFrame\n",
    "\n",
    "# autoreload extension\n",
    "from IPython import get_ipython\n",
    "ipython = get_ipython()\n",
    "if 'autoreload' not in ipython.extension_manager.loaded:\n",
    "    %load_ext autoreload\n",
    "%autoreload 2"
   ]
  },
  {
   "cell_type": "markdown",
   "metadata": {},
   "source": [
    "---\n",
    "\n",
    "---\n",
    "\n",
    "# MCCE - MS Sampling\n",
    "---"
   ]
  },
  {
   "cell_type": "code",
   "execution_count": 237,
   "metadata": {},
   "outputs": [],
   "source": [
    "import base\n",
    "import mcce_io as io\n",
    "import ms_sampling"
   ]
  },
  {
   "cell_type": "code",
   "execution_count": 143,
   "metadata": {},
   "outputs": [
    {
     "data": {
      "text/plain": [
       "PosixPath('/home/cat/projects/MCCE_Scikit/tests/data')"
      ]
     },
     "execution_count": 143,
     "metadata": {},
     "output_type": "execute_result"
    }
   ],
   "source": [
    "DATA = Path.cwd().parent.joinpath(\"tests/data\")\n",
    "DATA"
   ]
  },
  {
   "cell_type": "code",
   "execution_count": 144,
   "metadata": {},
   "outputs": [
    {
     "name": "stdout",
     "output_type": "stream",
     "text": [
      "head3.lst  ms_out  run.prm.record  step2_out.pdb\n"
     ]
    }
   ],
   "source": [
    "!ls {DATA}"
   ]
  },
  {
   "cell_type": "code",
   "execution_count": null,
   "metadata": {},
   "outputs": [],
   "source": [
    "# filepaths of inputs:\n",
    "h3_path = DATA.joinpath(\"head3.lst\")\n",
    "mcce_output_path = h3_path.parent\n",
    "\n",
    "step2_path = mcce_output_path.joinpath(\"step2_out.pdb\")\n",
    "msout_path = mcce_output_path.joinpath(\"ms_out\")\n",
    "msout_path, msout_path.is_dir()\n"
   ]
  },
  {
   "cell_type": "code",
   "execution_count": 246,
   "metadata": {},
   "outputs": [
    {
     "data": {
      "text/plain": [
       "PosixPath('/home/cat/projects/MCCE_Scikit/tests/data/ms_out/pH5eH0ms.txt')"
      ]
     },
     "execution_count": 246,
     "metadata": {},
     "output_type": "execute_result"
    },
    {
     "data": {
      "text/plain": [
       "PosixPath('/home/cat/projects/MCCE_Scikit/tests/data/ms_out/pH5eH0ms')"
      ]
     },
     "execution_count": 246,
     "metadata": {},
     "output_type": "execute_result"
    }
   ],
   "source": [
    "# filepaths of outputs:\n",
    "\n",
    "ph = 5.0\n",
    "eh = 0.0\n",
    "fname = io.get_msout_filename(mcce_output_path, ph, eh)\n",
    "fname\n",
    "\n",
    "pdb_out_folder = fname.parent.joinpath(fname.stem)\n",
    "pdb_out_folder"
   ]
  },
  {
   "cell_type": "code",
   "execution_count": null,
   "metadata": {},
   "outputs": [],
   "source": [
    "conformers = io.read_conformers(h3_path)\n",
    "\n",
    "ms = base.MS(mcce_output_path, 5., 0.)\n",
    "\n",
    "ms_orig_lst = [Micro_tup(ms.E, ms.count, ms.state) for ms in list((ms.microstates.values()))]\n",
    "print(f\"# microstates: {len(ms_orig_lst):,}\")\n",
    "\n",
    "ms_sorted_lst = ms_sampling.sort_microstate_list(ms_orig_lst, by=\"energy\")"
   ]
  },
  {
   "cell_type": "code",
   "execution_count": 239,
   "metadata": {},
   "outputs": [
    {
     "name": "stdout",
     "output_type": "stream",
     "text": [
      "PDB creation from sampled ms over!\n"
     ]
    }
   ],
   "source": [
    "N_samples = 2\n",
    "ms_cumsum, selection_range = get_regular_samples(N_samples, ms_sorted_lst)\n",
    "\n",
    "for count in selection_range:\n",
    "    ms_index = np.where((ms_cumsum - count) > 0)[0][0]\n",
    "    selected_ms = ms_sampling.ms_sorted_lst[ms_index]\n",
    "    selected_confs = ms_sampling.get_selected_confs(ms, conformers, selected_ms)\n",
    "    #continue\n",
    "    \n",
    "    # write out the pdb\n",
    "    #io.MS_to_PDB(selected_confs, ms_index, step2_path, output_folder)\n",
    "\n",
    "print(\"PDB creation from sampled ms over!\")"
   ]
  },
  {
   "cell_type": "raw",
   "metadata": {},
   "source": [
    "ms_state = ms_orig_lst[0].state\n",
    "len(ms_state) == 63\n",
    "\n",
    "print(f\"E: {ms_orig_lst[0].E:.3f}, count: {ms_orig_lst[0].count:,}, \\nstate: {ms_state}, \\nn_state: {len(ms_state):,}\")"
   ]
  },
  {
   "cell_type": "code",
   "execution_count": null,
   "metadata": {},
   "outputs": [],
   "source": []
  }
 ],
 "metadata": {
  "kernelspec": {
   "display_name": "Python [conda env:mce]",
   "language": "python",
   "name": "conda-env-mce-py"
  },
  "language_info": {
   "codemirror_mode": {
    "name": "ipython",
    "version": 3
   },
   "file_extension": ".py",
   "mimetype": "text/x-python",
   "name": "python",
   "nbconvert_exporter": "python",
   "pygments_lexer": "ipython3",
   "version": "3.11.5"
  }
 },
 "nbformat": 4,
 "nbformat_minor": 4
}
